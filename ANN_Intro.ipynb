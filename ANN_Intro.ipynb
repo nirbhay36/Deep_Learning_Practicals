{
  "nbformat": 4,
  "nbformat_minor": 0,
  "metadata": {
    "colab": {
      "provenance": [],
      "gpuType": "T4"
    },
    "kernelspec": {
      "name": "python3",
      "display_name": "Python 3"
    },
    "language_info": {
      "name": "python"
    },
    "accelerator": "GPU"
  },
  "cells": [
    {
      "cell_type": "code",
      "execution_count": 8,
      "metadata": {
        "colab": {
          "base_uri": "https://localhost:8080/"
        },
        "id": "G_QzBJ_84H1N",
        "outputId": "5eea1c8d-326a-4850-c5be-054dd85330f1"
      },
      "outputs": [
        {
          "output_type": "stream",
          "name": "stdout",
          "text": [
            "2.12.0\n"
          ]
        }
      ],
      "source": [
        "import tensorflow\n",
        "print(tensorflow.__version__)"
      ]
    },
    {
      "cell_type": "code",
      "source": [
        "import numpy as np\n",
        "import pandas as pd\n",
        "import matplotlib.pyplot as plt\n"
      ],
      "metadata": {
        "id": "GqgxJWRp4_pz"
      },
      "execution_count": 9,
      "outputs": []
    },
    {
      "cell_type": "code",
      "source": [
        "\n",
        "\n",
        "df = pd.read_csv(\"/content/aps_data.csv\")"
      ],
      "metadata": {
        "colab": {
          "base_uri": "https://localhost:8080/"
        },
        "id": "bb6-ZDa35Lme",
        "outputId": "efad00de-e0c7-4c22-d00e-f687cc0100b9"
      },
      "execution_count": 10,
      "outputs": [
        {
          "output_type": "stream",
          "name": "stderr",
          "text": [
            "<ipython-input-10-2a2522f947d9>:1: DtypeWarning: Columns (7,8,9,10,11,12,13,14,15,16,17,18,19,21,22,23,24,25,26,28,29,30,33,34,35,36,37,38,39,40,41,42,43,44,45,46,47,48,49,50,51,52,53,54,55,56,57,58,59,60,61,62,63,68,69,70,71,81,82,83,85,100,101,102,103,104,105,106,107,108,109,112,114,115,116,117,118,119,120,121,122,123,143,159,160,161,162,163,164,165,166,167,168) have mixed types. Specify dtype option on import or set low_memory=False.\n",
            "  df = pd.read_csv(\"/content/aps_data.csv\")\n"
          ]
        }
      ]
    },
    {
      "cell_type": "code",
      "source": [
        "df.head()"
      ],
      "metadata": {
        "colab": {
          "base_uri": "https://localhost:8080/",
          "height": 299
        },
        "id": "Uwi6-uR65SZ-",
        "outputId": "4c18ddb3-20c2-4c2e-f609-97eda4f08bbf"
      },
      "execution_count": 11,
      "outputs": [
        {
          "output_type": "execute_result",
          "data": {
            "text/plain": [
              "  class  aa_000 ab_000 ac_000 ad_000 ae_000 af_000 ag_000 ag_001 ag_002  ...  \\\n",
              "0   neg       6      0      0      0      0      0      0      0      0  ...   \n",
              "1   neg      90      0      0     66      0      0      0      0      0  ...   \n",
              "2   neg      30     na     16     14      0      0      0      0      0  ...   \n",
              "3   neg     444     na     14     12      0      0      0      0      0  ...   \n",
              "4   neg      82     na     12     10      0      0      0      0   1464  ...   \n",
              "\n",
              "  ee_002 ee_003 ee_004 ee_005 ee_006 ee_007 ee_008 ee_009 ef_000 eg_000  \n",
              "0     26      8     26     52      0      0      0      0      0      0  \n",
              "1   1268    526    554    300    118    260      0      0      0      0  \n",
              "2    480     84     74     50     46      0      0      0      0      0  \n",
              "3   1614   1144   3598   2460   1258   8524    110      0      0      0  \n",
              "4   1010    132    310     56     92   1292      0      0      0      0  \n",
              "\n",
              "[5 rows x 171 columns]"
            ],
            "text/html": [
              "\n",
              "\n",
              "  <div id=\"df-0890e815-cc27-4856-b633-c5d87b2c20a6\">\n",
              "    <div class=\"colab-df-container\">\n",
              "      <div>\n",
              "<style scoped>\n",
              "    .dataframe tbody tr th:only-of-type {\n",
              "        vertical-align: middle;\n",
              "    }\n",
              "\n",
              "    .dataframe tbody tr th {\n",
              "        vertical-align: top;\n",
              "    }\n",
              "\n",
              "    .dataframe thead th {\n",
              "        text-align: right;\n",
              "    }\n",
              "</style>\n",
              "<table border=\"1\" class=\"dataframe\">\n",
              "  <thead>\n",
              "    <tr style=\"text-align: right;\">\n",
              "      <th></th>\n",
              "      <th>class</th>\n",
              "      <th>aa_000</th>\n",
              "      <th>ab_000</th>\n",
              "      <th>ac_000</th>\n",
              "      <th>ad_000</th>\n",
              "      <th>ae_000</th>\n",
              "      <th>af_000</th>\n",
              "      <th>ag_000</th>\n",
              "      <th>ag_001</th>\n",
              "      <th>ag_002</th>\n",
              "      <th>...</th>\n",
              "      <th>ee_002</th>\n",
              "      <th>ee_003</th>\n",
              "      <th>ee_004</th>\n",
              "      <th>ee_005</th>\n",
              "      <th>ee_006</th>\n",
              "      <th>ee_007</th>\n",
              "      <th>ee_008</th>\n",
              "      <th>ee_009</th>\n",
              "      <th>ef_000</th>\n",
              "      <th>eg_000</th>\n",
              "    </tr>\n",
              "  </thead>\n",
              "  <tbody>\n",
              "    <tr>\n",
              "      <th>0</th>\n",
              "      <td>neg</td>\n",
              "      <td>6</td>\n",
              "      <td>0</td>\n",
              "      <td>0</td>\n",
              "      <td>0</td>\n",
              "      <td>0</td>\n",
              "      <td>0</td>\n",
              "      <td>0</td>\n",
              "      <td>0</td>\n",
              "      <td>0</td>\n",
              "      <td>...</td>\n",
              "      <td>26</td>\n",
              "      <td>8</td>\n",
              "      <td>26</td>\n",
              "      <td>52</td>\n",
              "      <td>0</td>\n",
              "      <td>0</td>\n",
              "      <td>0</td>\n",
              "      <td>0</td>\n",
              "      <td>0</td>\n",
              "      <td>0</td>\n",
              "    </tr>\n",
              "    <tr>\n",
              "      <th>1</th>\n",
              "      <td>neg</td>\n",
              "      <td>90</td>\n",
              "      <td>0</td>\n",
              "      <td>0</td>\n",
              "      <td>66</td>\n",
              "      <td>0</td>\n",
              "      <td>0</td>\n",
              "      <td>0</td>\n",
              "      <td>0</td>\n",
              "      <td>0</td>\n",
              "      <td>...</td>\n",
              "      <td>1268</td>\n",
              "      <td>526</td>\n",
              "      <td>554</td>\n",
              "      <td>300</td>\n",
              "      <td>118</td>\n",
              "      <td>260</td>\n",
              "      <td>0</td>\n",
              "      <td>0</td>\n",
              "      <td>0</td>\n",
              "      <td>0</td>\n",
              "    </tr>\n",
              "    <tr>\n",
              "      <th>2</th>\n",
              "      <td>neg</td>\n",
              "      <td>30</td>\n",
              "      <td>na</td>\n",
              "      <td>16</td>\n",
              "      <td>14</td>\n",
              "      <td>0</td>\n",
              "      <td>0</td>\n",
              "      <td>0</td>\n",
              "      <td>0</td>\n",
              "      <td>0</td>\n",
              "      <td>...</td>\n",
              "      <td>480</td>\n",
              "      <td>84</td>\n",
              "      <td>74</td>\n",
              "      <td>50</td>\n",
              "      <td>46</td>\n",
              "      <td>0</td>\n",
              "      <td>0</td>\n",
              "      <td>0</td>\n",
              "      <td>0</td>\n",
              "      <td>0</td>\n",
              "    </tr>\n",
              "    <tr>\n",
              "      <th>3</th>\n",
              "      <td>neg</td>\n",
              "      <td>444</td>\n",
              "      <td>na</td>\n",
              "      <td>14</td>\n",
              "      <td>12</td>\n",
              "      <td>0</td>\n",
              "      <td>0</td>\n",
              "      <td>0</td>\n",
              "      <td>0</td>\n",
              "      <td>0</td>\n",
              "      <td>...</td>\n",
              "      <td>1614</td>\n",
              "      <td>1144</td>\n",
              "      <td>3598</td>\n",
              "      <td>2460</td>\n",
              "      <td>1258</td>\n",
              "      <td>8524</td>\n",
              "      <td>110</td>\n",
              "      <td>0</td>\n",
              "      <td>0</td>\n",
              "      <td>0</td>\n",
              "    </tr>\n",
              "    <tr>\n",
              "      <th>4</th>\n",
              "      <td>neg</td>\n",
              "      <td>82</td>\n",
              "      <td>na</td>\n",
              "      <td>12</td>\n",
              "      <td>10</td>\n",
              "      <td>0</td>\n",
              "      <td>0</td>\n",
              "      <td>0</td>\n",
              "      <td>0</td>\n",
              "      <td>1464</td>\n",
              "      <td>...</td>\n",
              "      <td>1010</td>\n",
              "      <td>132</td>\n",
              "      <td>310</td>\n",
              "      <td>56</td>\n",
              "      <td>92</td>\n",
              "      <td>1292</td>\n",
              "      <td>0</td>\n",
              "      <td>0</td>\n",
              "      <td>0</td>\n",
              "      <td>0</td>\n",
              "    </tr>\n",
              "  </tbody>\n",
              "</table>\n",
              "<p>5 rows × 171 columns</p>\n",
              "</div>\n",
              "      <button class=\"colab-df-convert\" onclick=\"convertToInteractive('df-0890e815-cc27-4856-b633-c5d87b2c20a6')\"\n",
              "              title=\"Convert this dataframe to an interactive table.\"\n",
              "              style=\"display:none;\">\n",
              "\n",
              "  <svg xmlns=\"http://www.w3.org/2000/svg\" height=\"24px\"viewBox=\"0 0 24 24\"\n",
              "       width=\"24px\">\n",
              "    <path d=\"M0 0h24v24H0V0z\" fill=\"none\"/>\n",
              "    <path d=\"M18.56 5.44l.94 2.06.94-2.06 2.06-.94-2.06-.94-.94-2.06-.94 2.06-2.06.94zm-11 1L8.5 8.5l.94-2.06 2.06-.94-2.06-.94L8.5 2.5l-.94 2.06-2.06.94zm10 10l.94 2.06.94-2.06 2.06-.94-2.06-.94-.94-2.06-.94 2.06-2.06.94z\"/><path d=\"M17.41 7.96l-1.37-1.37c-.4-.4-.92-.59-1.43-.59-.52 0-1.04.2-1.43.59L10.3 9.45l-7.72 7.72c-.78.78-.78 2.05 0 2.83L4 21.41c.39.39.9.59 1.41.59.51 0 1.02-.2 1.41-.59l7.78-7.78 2.81-2.81c.8-.78.8-2.07 0-2.86zM5.41 20L4 18.59l7.72-7.72 1.47 1.35L5.41 20z\"/>\n",
              "  </svg>\n",
              "      </button>\n",
              "\n",
              "\n",
              "\n",
              "    <div id=\"df-b32dab82-6d97-4803-9f6c-0fd21c25aac0\">\n",
              "      <button class=\"colab-df-quickchart\" onclick=\"quickchart('df-b32dab82-6d97-4803-9f6c-0fd21c25aac0')\"\n",
              "              title=\"Suggest charts.\"\n",
              "              style=\"display:none;\">\n",
              "\n",
              "<svg xmlns=\"http://www.w3.org/2000/svg\" height=\"24px\"viewBox=\"0 0 24 24\"\n",
              "     width=\"24px\">\n",
              "    <g>\n",
              "        <path d=\"M19 3H5c-1.1 0-2 .9-2 2v14c0 1.1.9 2 2 2h14c1.1 0 2-.9 2-2V5c0-1.1-.9-2-2-2zM9 17H7v-7h2v7zm4 0h-2V7h2v10zm4 0h-2v-4h2v4z\"/>\n",
              "    </g>\n",
              "</svg>\n",
              "      </button>\n",
              "    </div>\n",
              "\n",
              "<style>\n",
              "  .colab-df-quickchart {\n",
              "    background-color: #E8F0FE;\n",
              "    border: none;\n",
              "    border-radius: 50%;\n",
              "    cursor: pointer;\n",
              "    display: none;\n",
              "    fill: #1967D2;\n",
              "    height: 32px;\n",
              "    padding: 0 0 0 0;\n",
              "    width: 32px;\n",
              "  }\n",
              "\n",
              "  .colab-df-quickchart:hover {\n",
              "    background-color: #E2EBFA;\n",
              "    box-shadow: 0px 1px 2px rgba(60, 64, 67, 0.3), 0px 1px 3px 1px rgba(60, 64, 67, 0.15);\n",
              "    fill: #174EA6;\n",
              "  }\n",
              "\n",
              "  [theme=dark] .colab-df-quickchart {\n",
              "    background-color: #3B4455;\n",
              "    fill: #D2E3FC;\n",
              "  }\n",
              "\n",
              "  [theme=dark] .colab-df-quickchart:hover {\n",
              "    background-color: #434B5C;\n",
              "    box-shadow: 0px 1px 3px 1px rgba(0, 0, 0, 0.15);\n",
              "    filter: drop-shadow(0px 1px 2px rgba(0, 0, 0, 0.3));\n",
              "    fill: #FFFFFF;\n",
              "  }\n",
              "</style>\n",
              "\n",
              "    <script>\n",
              "      async function quickchart(key) {\n",
              "        const containerElement = document.querySelector('#' + key);\n",
              "        const charts = await google.colab.kernel.invokeFunction(\n",
              "            'suggestCharts', [key], {});\n",
              "      }\n",
              "    </script>\n",
              "\n",
              "      <script>\n",
              "\n",
              "function displayQuickchartButton(domScope) {\n",
              "  let quickchartButtonEl =\n",
              "    domScope.querySelector('#df-b32dab82-6d97-4803-9f6c-0fd21c25aac0 button.colab-df-quickchart');\n",
              "  quickchartButtonEl.style.display =\n",
              "    google.colab.kernel.accessAllowed ? 'block' : 'none';\n",
              "}\n",
              "\n",
              "        displayQuickchartButton(document);\n",
              "      </script>\n",
              "      <style>\n",
              "    .colab-df-container {\n",
              "      display:flex;\n",
              "      flex-wrap:wrap;\n",
              "      gap: 12px;\n",
              "    }\n",
              "\n",
              "    .colab-df-convert {\n",
              "      background-color: #E8F0FE;\n",
              "      border: none;\n",
              "      border-radius: 50%;\n",
              "      cursor: pointer;\n",
              "      display: none;\n",
              "      fill: #1967D2;\n",
              "      height: 32px;\n",
              "      padding: 0 0 0 0;\n",
              "      width: 32px;\n",
              "    }\n",
              "\n",
              "    .colab-df-convert:hover {\n",
              "      background-color: #E2EBFA;\n",
              "      box-shadow: 0px 1px 2px rgba(60, 64, 67, 0.3), 0px 1px 3px 1px rgba(60, 64, 67, 0.15);\n",
              "      fill: #174EA6;\n",
              "    }\n",
              "\n",
              "    [theme=dark] .colab-df-convert {\n",
              "      background-color: #3B4455;\n",
              "      fill: #D2E3FC;\n",
              "    }\n",
              "\n",
              "    [theme=dark] .colab-df-convert:hover {\n",
              "      background-color: #434B5C;\n",
              "      box-shadow: 0px 1px 3px 1px rgba(0, 0, 0, 0.15);\n",
              "      filter: drop-shadow(0px 1px 2px rgba(0, 0, 0, 0.3));\n",
              "      fill: #FFFFFF;\n",
              "    }\n",
              "  </style>\n",
              "\n",
              "      <script>\n",
              "        const buttonEl =\n",
              "          document.querySelector('#df-0890e815-cc27-4856-b633-c5d87b2c20a6 button.colab-df-convert');\n",
              "        buttonEl.style.display =\n",
              "          google.colab.kernel.accessAllowed ? 'block' : 'none';\n",
              "\n",
              "        async function convertToInteractive(key) {\n",
              "          const element = document.querySelector('#df-0890e815-cc27-4856-b633-c5d87b2c20a6');\n",
              "          const dataTable =\n",
              "            await google.colab.kernel.invokeFunction('convertToInteractive',\n",
              "                                                     [key], {});\n",
              "          if (!dataTable) return;\n",
              "\n",
              "          const docLinkHtml = 'Like what you see? Visit the ' +\n",
              "            '<a target=\"_blank\" href=https://colab.research.google.com/notebooks/data_table.ipynb>data table notebook</a>'\n",
              "            + ' to learn more about interactive tables.';\n",
              "          element.innerHTML = '';\n",
              "          dataTable['output_type'] = 'display_data';\n",
              "          await google.colab.output.renderOutput(dataTable, element);\n",
              "          const docLink = document.createElement('div');\n",
              "          docLink.innerHTML = docLinkHtml;\n",
              "          element.appendChild(docLink);\n",
              "        }\n",
              "      </script>\n",
              "    </div>\n",
              "  </div>\n"
            ]
          },
          "metadata": {},
          "execution_count": 11
        }
      ]
    },
    {
      "cell_type": "code",
      "source": [
        "df.shape"
      ],
      "metadata": {
        "colab": {
          "base_uri": "https://localhost:8080/"
        },
        "id": "N-SgAAE45UXl",
        "outputId": "079bffcb-c438-44df-84a1-20ebf8707efe"
      },
      "execution_count": 12,
      "outputs": [
        {
          "output_type": "execute_result",
          "data": {
            "text/plain": [
              "(4212, 171)"
            ]
          },
          "metadata": {},
          "execution_count": 12
        }
      ]
    },
    {
      "cell_type": "code",
      "source": [
        "df.isnull().sum()"
      ],
      "metadata": {
        "colab": {
          "base_uri": "https://localhost:8080/"
        },
        "id": "37wgds8w5X9E",
        "outputId": "f3735d1f-3a62-43c7-f830-4042b9b2731b"
      },
      "execution_count": 13,
      "outputs": [
        {
          "output_type": "execute_result",
          "data": {
            "text/plain": [
              "class     0\n",
              "aa_000    0\n",
              "ab_000    0\n",
              "ac_000    0\n",
              "ad_000    0\n",
              "         ..\n",
              "ee_007    1\n",
              "ee_008    1\n",
              "ee_009    1\n",
              "ef_000    1\n",
              "eg_000    1\n",
              "Length: 171, dtype: int64"
            ]
          },
          "metadata": {},
          "execution_count": 13
        }
      ]
    },
    {
      "cell_type": "code",
      "source": [
        "df = df.replace('na',np.nan)"
      ],
      "metadata": {
        "id": "OFiFKrq25d5a"
      },
      "execution_count": 14,
      "outputs": []
    },
    {
      "cell_type": "code",
      "source": [
        "\n",
        "df.isnull().sum()"
      ],
      "metadata": {
        "colab": {
          "base_uri": "https://localhost:8080/"
        },
        "id": "f9PQNjlv5xOO",
        "outputId": "b084b23e-a66b-4464-dd90-f1b42bd656c2"
      },
      "execution_count": 15,
      "outputs": [
        {
          "output_type": "execute_result",
          "data": {
            "text/plain": [
              "class        0\n",
              "aa_000       0\n",
              "ab_000    3246\n",
              "ac_000     261\n",
              "ad_000    1034\n",
              "          ... \n",
              "ee_007      52\n",
              "ee_008      52\n",
              "ee_009      52\n",
              "ef_000     210\n",
              "eg_000     210\n",
              "Length: 171, dtype: int64"
            ]
          },
          "metadata": {},
          "execution_count": 15
        }
      ]
    },
    {
      "cell_type": "code",
      "source": [
        "df.isnull().sum().sum()"
      ],
      "metadata": {
        "colab": {
          "base_uri": "https://localhost:8080/"
        },
        "id": "VWJleWkE5yl5",
        "outputId": "fd482d5b-b5d2-4296-b433-d65c6863c018"
      },
      "execution_count": 16,
      "outputs": [
        {
          "output_type": "execute_result",
          "data": {
            "text/plain": [
              "60618"
            ]
          },
          "metadata": {},
          "execution_count": 16
        }
      ]
    },
    {
      "cell_type": "code",
      "source": [
        "df.isnull().sum().sort_values(ascending = False)"
      ],
      "metadata": {
        "colab": {
          "base_uri": "https://localhost:8080/"
        },
        "id": "Qn3jf6lE6KYU",
        "outputId": "ced870c8-d031-4b10-e589-74a1a6709863"
      },
      "execution_count": 18,
      "outputs": [
        {
          "output_type": "execute_result",
          "data": {
            "text/plain": [
              "br_000    3463\n",
              "bq_000    3410\n",
              "bp_000    3336\n",
              "ab_000    3246\n",
              "cr_000    3246\n",
              "          ... \n",
              "cj_000      32\n",
              "ci_000      32\n",
              "bt_000      13\n",
              "aa_000       0\n",
              "class        0\n",
              "Length: 171, dtype: int64"
            ]
          },
          "metadata": {},
          "execution_count": 18
        }
      ]
    },
    {
      "cell_type": "code",
      "source": [
        "### Filling null values in feature with median of that feature\n",
        "for feature in [feature for feature in df.columns if feature not in ['class']]:\n",
        "    df[feature]=df[feature].fillna(df[feature].median())"
      ],
      "metadata": {
        "id": "evoiFjYv6duN"
      },
      "execution_count": 20,
      "outputs": []
    },
    {
      "cell_type": "code",
      "source": [
        "df.isnull().sum()"
      ],
      "metadata": {
        "colab": {
          "base_uri": "https://localhost:8080/"
        },
        "id": "OdhsNg1s9Zpr",
        "outputId": "56d31bb5-fd90-41d1-b6ba-0e356b0804d5"
      },
      "execution_count": 22,
      "outputs": [
        {
          "output_type": "execute_result",
          "data": {
            "text/plain": [
              "class     0\n",
              "aa_000    0\n",
              "ab_000    0\n",
              "ac_000    0\n",
              "ad_000    0\n",
              "         ..\n",
              "ee_007    0\n",
              "ee_008    0\n",
              "ee_009    0\n",
              "ef_000    0\n",
              "eg_000    0\n",
              "Length: 171, dtype: int64"
            ]
          },
          "metadata": {},
          "execution_count": 22
        }
      ]
    },
    {
      "cell_type": "code",
      "source": [
        "X=df.drop(\"class\",axis=1)\n",
        "y=df[\"class\"]"
      ],
      "metadata": {
        "id": "mLmR7qFM9iu9"
      },
      "execution_count": 24,
      "outputs": []
    },
    {
      "cell_type": "code",
      "source": [
        "X.info(verbose=True,show_counts=True)"
      ],
      "metadata": {
        "colab": {
          "base_uri": "https://localhost:8080/"
        },
        "id": "SlZ_9ioV9tYH",
        "outputId": "698ea282-afdf-444c-ddd9-d0d008dbab9e"
      },
      "execution_count": 25,
      "outputs": [
        {
          "output_type": "stream",
          "name": "stdout",
          "text": [
            "<class 'pandas.core.frame.DataFrame'>\n",
            "RangeIndex: 4212 entries, 0 to 4211\n",
            "Data columns (total 170 columns):\n",
            " #    Column  Non-Null Count  Dtype \n",
            "---   ------  --------------  ----- \n",
            " 0    aa_000  4212 non-null   int64 \n",
            " 1    ab_000  4212 non-null   object\n",
            " 2    ac_000  4212 non-null   object\n",
            " 3    ad_000  4212 non-null   object\n",
            " 4    ae_000  4212 non-null   object\n",
            " 5    af_000  4212 non-null   object\n",
            " 6    ag_000  4212 non-null   object\n",
            " 7    ag_001  4212 non-null   object\n",
            " 8    ag_002  4212 non-null   object\n",
            " 9    ag_003  4212 non-null   object\n",
            " 10   ag_004  4212 non-null   object\n",
            " 11   ag_005  4212 non-null   object\n",
            " 12   ag_006  4212 non-null   object\n",
            " 13   ag_007  4212 non-null   object\n",
            " 14   ag_008  4212 non-null   object\n",
            " 15   ag_009  4212 non-null   object\n",
            " 16   ah_000  4212 non-null   object\n",
            " 17   ai_000  4212 non-null   object\n",
            " 18   aj_000  4212 non-null   object\n",
            " 19   ak_000  4212 non-null   object\n",
            " 20   al_000  4212 non-null   object\n",
            " 21   am_0    4212 non-null   object\n",
            " 22   an_000  4212 non-null   object\n",
            " 23   ao_000  4212 non-null   object\n",
            " 24   ap_000  4212 non-null   object\n",
            " 25   aq_000  4212 non-null   object\n",
            " 26   ar_000  4212 non-null   object\n",
            " 27   as_000  4212 non-null   object\n",
            " 28   at_000  4212 non-null   object\n",
            " 29   au_000  4212 non-null   object\n",
            " 30   av_000  4212 non-null   object\n",
            " 31   ax_000  4212 non-null   object\n",
            " 32   ay_000  4212 non-null   object\n",
            " 33   ay_001  4212 non-null   object\n",
            " 34   ay_002  4212 non-null   object\n",
            " 35   ay_003  4212 non-null   object\n",
            " 36   ay_004  4212 non-null   object\n",
            " 37   ay_005  4212 non-null   object\n",
            " 38   ay_006  4212 non-null   object\n",
            " 39   ay_007  4212 non-null   object\n",
            " 40   ay_008  4212 non-null   object\n",
            " 41   ay_009  4212 non-null   object\n",
            " 42   az_000  4212 non-null   object\n",
            " 43   az_001  4212 non-null   object\n",
            " 44   az_002  4212 non-null   object\n",
            " 45   az_003  4212 non-null   object\n",
            " 46   az_004  4212 non-null   object\n",
            " 47   az_005  4212 non-null   object\n",
            " 48   az_006  4212 non-null   object\n",
            " 49   az_007  4212 non-null   object\n",
            " 50   az_008  4212 non-null   object\n",
            " 51   az_009  4212 non-null   object\n",
            " 52   ba_000  4212 non-null   object\n",
            " 53   ba_001  4212 non-null   object\n",
            " 54   ba_002  4212 non-null   object\n",
            " 55   ba_003  4212 non-null   object\n",
            " 56   ba_004  4212 non-null   object\n",
            " 57   ba_005  4212 non-null   object\n",
            " 58   ba_006  4212 non-null   object\n",
            " 59   ba_007  4212 non-null   object\n",
            " 60   ba_008  4212 non-null   object\n",
            " 61   ba_009  4212 non-null   object\n",
            " 62   bb_000  4212 non-null   object\n",
            " 63   bc_000  4212 non-null   object\n",
            " 64   bd_000  4212 non-null   object\n",
            " 65   be_000  4212 non-null   object\n",
            " 66   bf_000  4212 non-null   object\n",
            " 67   bg_000  4212 non-null   object\n",
            " 68   bh_000  4212 non-null   object\n",
            " 69   bi_000  4212 non-null   object\n",
            " 70   bj_000  4212 non-null   object\n",
            " 71   bk_000  4212 non-null   object\n",
            " 72   bl_000  4212 non-null   object\n",
            " 73   bm_000  4212 non-null   object\n",
            " 74   bn_000  4212 non-null   object\n",
            " 75   bo_000  4212 non-null   object\n",
            " 76   bp_000  4212 non-null   object\n",
            " 77   bq_000  4212 non-null   object\n",
            " 78   br_000  4212 non-null   object\n",
            " 79   bs_000  4212 non-null   object\n",
            " 80   bt_000  4212 non-null   object\n",
            " 81   bu_000  4212 non-null   object\n",
            " 82   bv_000  4212 non-null   object\n",
            " 83   bx_000  4212 non-null   object\n",
            " 84   by_000  4212 non-null   object\n",
            " 85   bz_000  4212 non-null   object\n",
            " 86   ca_000  4212 non-null   object\n",
            " 87   cb_000  4212 non-null   object\n",
            " 88   cc_000  4212 non-null   object\n",
            " 89   cd_000  4212 non-null   object\n",
            " 90   ce_000  4212 non-null   object\n",
            " 91   cf_000  4212 non-null   object\n",
            " 92   cg_000  4212 non-null   object\n",
            " 93   ch_000  4212 non-null   object\n",
            " 94   ci_000  4212 non-null   object\n",
            " 95   cj_000  4212 non-null   object\n",
            " 96   ck_000  4212 non-null   object\n",
            " 97   cl_000  4212 non-null   object\n",
            " 98   cm_000  4212 non-null   object\n",
            " 99   cn_000  4212 non-null   object\n",
            " 100  cn_001  4212 non-null   object\n",
            " 101  cn_002  4212 non-null   object\n",
            " 102  cn_003  4212 non-null   object\n",
            " 103  cn_004  4212 non-null   object\n",
            " 104  cn_005  4212 non-null   object\n",
            " 105  cn_006  4212 non-null   object\n",
            " 106  cn_007  4212 non-null   object\n",
            " 107  cn_008  4212 non-null   object\n",
            " 108  cn_009  4212 non-null   object\n",
            " 109  co_000  4212 non-null   object\n",
            " 110  cp_000  4212 non-null   object\n",
            " 111  cq_000  4212 non-null   object\n",
            " 112  cr_000  4212 non-null   object\n",
            " 113  cs_000  4212 non-null   object\n",
            " 114  cs_001  4212 non-null   object\n",
            " 115  cs_002  4212 non-null   object\n",
            " 116  cs_003  4212 non-null   object\n",
            " 117  cs_004  4212 non-null   object\n",
            " 118  cs_005  4212 non-null   object\n",
            " 119  cs_006  4212 non-null   object\n",
            " 120  cs_007  4212 non-null   object\n",
            " 121  cs_008  4212 non-null   object\n",
            " 122  cs_009  4212 non-null   object\n",
            " 123  ct_000  4212 non-null   object\n",
            " 124  cu_000  4212 non-null   object\n",
            " 125  cv_000  4212 non-null   object\n",
            " 126  cx_000  4212 non-null   object\n",
            " 127  cy_000  4212 non-null   object\n",
            " 128  cz_000  4212 non-null   object\n",
            " 129  da_000  4212 non-null   object\n",
            " 130  db_000  4212 non-null   object\n",
            " 131  dc_000  4212 non-null   object\n",
            " 132  dd_000  4212 non-null   object\n",
            " 133  de_000  4212 non-null   object\n",
            " 134  df_000  4212 non-null   object\n",
            " 135  dg_000  4212 non-null   object\n",
            " 136  dh_000  4212 non-null   object\n",
            " 137  di_000  4212 non-null   object\n",
            " 138  dj_000  4212 non-null   object\n",
            " 139  dk_000  4212 non-null   object\n",
            " 140  dl_000  4212 non-null   object\n",
            " 141  dm_000  4212 non-null   object\n",
            " 142  dn_000  4212 non-null   object\n",
            " 143  do_000  4212 non-null   object\n",
            " 144  dp_000  4212 non-null   object\n",
            " 145  dq_000  4212 non-null   object\n",
            " 146  dr_000  4212 non-null   object\n",
            " 147  ds_000  4212 non-null   object\n",
            " 148  dt_000  4212 non-null   object\n",
            " 149  du_000  4212 non-null   object\n",
            " 150  dv_000  4212 non-null   object\n",
            " 151  dx_000  4212 non-null   object\n",
            " 152  dy_000  4212 non-null   object\n",
            " 153  dz_000  4212 non-null   object\n",
            " 154  ea_000  4212 non-null   object\n",
            " 155  eb_000  4212 non-null   object\n",
            " 156  ec_00   4212 non-null   object\n",
            " 157  ed_000  4212 non-null   object\n",
            " 158  ee_000  4212 non-null   object\n",
            " 159  ee_001  4212 non-null   object\n",
            " 160  ee_002  4212 non-null   object\n",
            " 161  ee_003  4212 non-null   object\n",
            " 162  ee_004  4212 non-null   object\n",
            " 163  ee_005  4212 non-null   object\n",
            " 164  ee_006  4212 non-null   object\n",
            " 165  ee_007  4212 non-null   object\n",
            " 166  ee_008  4212 non-null   object\n",
            " 167  ee_009  4212 non-null   object\n",
            " 168  ef_000  4212 non-null   object\n",
            " 169  eg_000  4212 non-null   object\n",
            "dtypes: int64(1), object(169)\n",
            "memory usage: 5.5+ MB\n"
          ]
        }
      ]
    },
    {
      "cell_type": "code",
      "source": [
        "y=pd.get_dummies(y,drop_first=True)"
      ],
      "metadata": {
        "id": "BaABa3j39x5T"
      },
      "execution_count": 26,
      "outputs": []
    },
    {
      "cell_type": "code",
      "source": [
        "# Splitting the dataset into the Training set and Test set\n",
        "from sklearn.model_selection import train_test_split\n",
        "X_train, X_test, y_train, y_test = train_test_split(X, y, test_size = 0.2, random_state = 0)"
      ],
      "metadata": {
        "id": "12DzYviQ92QG"
      },
      "execution_count": 27,
      "outputs": []
    },
    {
      "cell_type": "code",
      "source": [
        "print(X_train.shape)\n",
        "print(X_test.shape)\n",
        "print(y_train.shape)\n",
        "print(y_test.shape)"
      ],
      "metadata": {
        "colab": {
          "base_uri": "https://localhost:8080/"
        },
        "id": "AGM76gSo94yE",
        "outputId": "32606521-104f-448b-bf7a-8f4fa4b6664c"
      },
      "execution_count": 28,
      "outputs": [
        {
          "output_type": "stream",
          "name": "stdout",
          "text": [
            "(3369, 170)\n",
            "(843, 170)\n",
            "(3369, 1)\n",
            "(843, 1)\n"
          ]
        }
      ]
    },
    {
      "cell_type": "code",
      "source": [
        "from sklearn.preprocessing import StandardScaler\n",
        "sc=StandardScaler()\n",
        "X_train=sc.fit_transform(X_train)\n",
        "X_test=sc.transform(X_test)"
      ],
      "metadata": {
        "id": "zMdZKL1w96lu"
      },
      "execution_count": 29,
      "outputs": []
    },
    {
      "cell_type": "code",
      "source": [
        "# Importing the Keras libraries and packages\n",
        "import tensorflow.keras\n",
        "from tensorflow.keras.models import Sequential\n",
        "from tensorflow.keras.layers import Dense\n",
        "from tensorflow.keras.layers import Dropout\n",
        "from tensorflow.keras.callbacks import EarlyStopping"
      ],
      "metadata": {
        "id": "FnIlWsbK98gb"
      },
      "execution_count": 86,
      "outputs": []
    },
    {
      "cell_type": "code",
      "source": [
        "classifier=Sequential()\n",
        "\n",
        "classifier.add(Dense(units=16,kernel_initializer='he_uniform',activation='relu',input_dim =170))\n",
        "\n",
        "classifier.add(Dense(units =8, kernel_initializer = 'he_uniform',activation='relu'))\n",
        "\n",
        "classifier.add(Dense(units = 1, kernel_initializer = 'glorot_uniform', activation = 'sigmoid'))"
      ],
      "metadata": {
        "id": "m8RVIk3I9_xN"
      },
      "execution_count": 97,
      "outputs": []
    },
    {
      "cell_type": "code",
      "source": [
        "# Define early stopping criteria\n",
        "early_stopping = EarlyStopping(monitor='val_loss', patience=5, restore_best_weights=True)"
      ],
      "metadata": {
        "id": "lxfh8013Dyjh"
      },
      "execution_count": 98,
      "outputs": []
    },
    {
      "cell_type": "code",
      "source": [
        "classifier.compile(optimizer = 'adam', loss = 'binary_crossentropy',metrics=['accuracy'])"
      ],
      "metadata": {
        "id": "hDUOe2FjASOi"
      },
      "execution_count": 99,
      "outputs": []
    },
    {
      "cell_type": "code",
      "source": [
        "classifier.summary()"
      ],
      "metadata": {
        "colab": {
          "base_uri": "https://localhost:8080/"
        },
        "id": "qmSUYNfQAWDC",
        "outputId": "0bd497be-f96f-40aa-996b-47cbcfe99b3c"
      },
      "execution_count": 100,
      "outputs": [
        {
          "output_type": "stream",
          "name": "stdout",
          "text": [
            "Model: \"sequential_9\"\n",
            "_________________________________________________________________\n",
            " Layer (type)                Output Shape              Param #   \n",
            "=================================================================\n",
            " dense_29 (Dense)            (None, 16)                2736      \n",
            "                                                                 \n",
            " dense_30 (Dense)            (None, 8)                 136       \n",
            "                                                                 \n",
            " dense_31 (Dense)            (None, 1)                 9         \n",
            "                                                                 \n",
            "=================================================================\n",
            "Total params: 2,881\n",
            "Trainable params: 2,881\n",
            "Non-trainable params: 0\n",
            "_________________________________________________________________\n"
          ]
        }
      ]
    },
    {
      "cell_type": "code",
      "source": [
        "model_history=classifier.fit(X_train,y_train,batch_size=10,epochs=100,validation_split=0.25, callbacks=[early_stopping])"
      ],
      "metadata": {
        "colab": {
          "base_uri": "https://localhost:8080/"
        },
        "id": "3lx5vhhLAY9L",
        "outputId": "0280a508-b48b-4194-adad-ac6187945c16"
      },
      "execution_count": 101,
      "outputs": [
        {
          "output_type": "stream",
          "name": "stdout",
          "text": [
            "Epoch 1/100\n",
            "253/253 [==============================] - 3s 5ms/step - loss: 0.4377 - accuracy: 0.8286 - val_loss: 0.1570 - val_accuracy: 0.9597\n",
            "Epoch 2/100\n",
            "253/253 [==============================] - 2s 7ms/step - loss: 0.1055 - accuracy: 0.9770 - val_loss: 0.0897 - val_accuracy: 0.9727\n",
            "Epoch 3/100\n",
            "253/253 [==============================] - 1s 5ms/step - loss: 0.0528 - accuracy: 0.9846 - val_loss: 0.0751 - val_accuracy: 0.9798\n",
            "Epoch 4/100\n",
            "253/253 [==============================] - 1s 5ms/step - loss: 0.0360 - accuracy: 0.9885 - val_loss: 0.0626 - val_accuracy: 0.9810\n",
            "Epoch 5/100\n",
            "253/253 [==============================] - 1s 5ms/step - loss: 0.0253 - accuracy: 0.9929 - val_loss: 0.0668 - val_accuracy: 0.9822\n",
            "Epoch 6/100\n",
            "253/253 [==============================] - 1s 5ms/step - loss: 0.0228 - accuracy: 0.9913 - val_loss: 0.0557 - val_accuracy: 0.9810\n",
            "Epoch 7/100\n",
            "253/253 [==============================] - 1s 4ms/step - loss: 0.0173 - accuracy: 0.9937 - val_loss: 0.0849 - val_accuracy: 0.9786\n",
            "Epoch 8/100\n",
            "253/253 [==============================] - 1s 4ms/step - loss: 0.0138 - accuracy: 0.9960 - val_loss: 0.0892 - val_accuracy: 0.9834\n",
            "Epoch 9/100\n",
            "253/253 [==============================] - 1s 4ms/step - loss: 0.0145 - accuracy: 0.9937 - val_loss: 0.0603 - val_accuracy: 0.9858\n",
            "Epoch 10/100\n",
            "253/253 [==============================] - 1s 4ms/step - loss: 0.0118 - accuracy: 0.9945 - val_loss: 0.1069 - val_accuracy: 0.9810\n",
            "Epoch 11/100\n",
            "253/253 [==============================] - 1s 5ms/step - loss: 0.0107 - accuracy: 0.9956 - val_loss: 0.1011 - val_accuracy: 0.9822\n"
          ]
        }
      ]
    },
    {
      "cell_type": "code",
      "source": [
        "# list all data in history\n",
        "\n",
        "print(model_history.history.keys())\n",
        "# summarize history for accuracy\n",
        "plt.plot(model_history.history['accuracy'])\n",
        "plt.plot(model_history.history['val_accuracy'])\n",
        "plt.title('model accuracy')\n",
        "plt.ylabel('accuracy')\n",
        "plt.xlabel('epoch')\n",
        "plt.legend(['train', 'test'], loc='upper left')\n",
        "plt.show()"
      ],
      "metadata": {
        "colab": {
          "base_uri": "https://localhost:8080/",
          "height": 489
        },
        "id": "WLw3XiCGAfhP",
        "outputId": "45048d76-5feb-4146-e943-23aa31da50dc"
      },
      "execution_count": 102,
      "outputs": [
        {
          "output_type": "stream",
          "name": "stdout",
          "text": [
            "dict_keys(['loss', 'accuracy', 'val_loss', 'val_accuracy'])\n"
          ]
        },
        {
          "output_type": "display_data",
          "data": {
            "text/plain": [
              "<Figure size 640x480 with 1 Axes>"
            ],
            "image/png": "[encoded data removed]"
          },
          "metadata": {}
        }
      ]
    },
    {
      "cell_type": "code",
      "source": [
        "# summarize history for accuracy\n",
        "plt.plot(model_history.history['loss'])\n",
        "plt.plot(model_history.history['val_loss'])\n",
        "plt.title('model accuracy')\n",
        "plt.ylabel('loss')\n",
        "plt.xlabel('epoch')\n",
        "plt.legend(['train', 'test'], loc='upper left')\n",
        "plt.show()"
      ],
      "metadata": {
        "colab": {
          "base_uri": "https://localhost:8080/",
          "height": 472
        },
        "id": "7YicPR08AnTq",
        "outputId": "09d0b62a-b26b-49ac-a4eb-437ffede72db"
      },
      "execution_count": 103,
      "outputs": [
        {
          "output_type": "display_data",
          "data": {
            "text/plain": [
              "<Figure size 640x480 with 1 Axes>"
            ],
            "image/png": "[encoded data removed]"
          },
          "metadata": {}
        }
      ]
    },
    {
      "cell_type": "code",
      "source": [
        "X_test.shape"
      ],
      "metadata": {
        "colab": {
          "base_uri": "https://localhost:8080/"
        },
        "id": "iTxD7OxuArNI",
        "outputId": "6a992841-3952-42d8-e9b0-8ffe19d36b13"
      },
      "execution_count": 85,
      "outputs": [
        {
          "output_type": "execute_result",
          "data": {
            "text/plain": [
              "(843, 170)"
            ]
          },
          "metadata": {},
          "execution_count": 85
        }
      ]
    },
    {
      "cell_type": "code",
      "source": [
        "y_pred=classifier.predict(X_test)\n"
      ],
      "metadata": {
        "colab": {
          "base_uri": "https://localhost:8080/"
        },
        "id": "noQ5qP-TAweX",
        "outputId": "06c7edb9-a4d3-45bb-8674-7f3f67fbba83"
      },
      "execution_count": 104,
      "outputs": [
        {
          "output_type": "stream",
          "name": "stdout",
          "text": [
            "27/27 [==============================] - 0s 4ms/step\n"
          ]
        }
      ]
    },
    {
      "cell_type": "code",
      "source": [
        "y_pred=y_pred>0.5"
      ],
      "metadata": {
        "id": "hY7dt4PVDSJR"
      },
      "execution_count": 105,
      "outputs": []
    },
    {
      "cell_type": "code",
      "source": [
        "from sklearn.metrics import confusion_matrix"
      ],
      "metadata": {
        "id": "jf6mGn1cIv_v"
      },
      "execution_count": 106,
      "outputs": []
    },
    {
      "cell_type": "code",
      "source": [
        "y_test.shape"
      ],
      "metadata": {
        "colab": {
          "base_uri": "https://localhost:8080/"
        },
        "id": "NUvQYHRMIyaJ",
        "outputId": "c43016d2-1d48-4ea5-82e9-7d5739c95d9e"
      },
      "execution_count": 107,
      "outputs": [
        {
          "output_type": "execute_result",
          "data": {
            "text/plain": [
              "(843, 1)"
            ]
          },
          "metadata": {},
          "execution_count": 107
        }
      ]
    },
    {
      "cell_type": "code",
      "source": [
        "y_pred.shape"
      ],
      "metadata": {
        "colab": {
          "base_uri": "https://localhost:8080/"
        },
        "id": "A48yPeuYI1Nx",
        "outputId": "0642f764-c3d8-49a0-dfbb-e772210cc4db"
      },
      "execution_count": 108,
      "outputs": [
        {
          "output_type": "execute_result",
          "data": {
            "text/plain": [
              "(843, 1)"
            ]
          },
          "metadata": {},
          "execution_count": 108
        }
      ]
    },
    {
      "cell_type": "code",
      "source": [
        "confusion_matrix(y_test,y_pred)"
      ],
      "metadata": {
        "colab": {
          "base_uri": "https://localhost:8080/"
        },
        "id": "bUJqFUc4I2xX",
        "outputId": "d328ea98-a30a-417d-ab21-9a8ec7af5a91"
      },
      "execution_count": 109,
      "outputs": [
        {
          "output_type": "execute_result",
          "data": {
            "text/plain": [
              "array([[830,   4],\n",
              "       [  4,   5]])"
            ]
          },
          "metadata": {},
          "execution_count": 109
        }
      ]
    },
    {
      "cell_type": "code",
      "source": [
        "import time\n",
        "import os\n",
        "\n",
        "def saveModel_path(model_dir=\"SAVED_MODELS\"):\n",
        "    os.makedirs(model_dir, exist_ok=True)\n",
        "    fileName = time.strftime(\"Model_%Y_%m_%d_%H_%M_%S_.h5\")\n",
        "    model_path = os.path.join(model_dir, fileName)\n",
        "    print(f\"your model will be saved at the following location\\n{model_path}\")\n",
        "    return model_path"
      ],
      "metadata": {
        "id": "Q-h2zmt7OeEf"
      },
      "execution_count": 114,
      "outputs": []
    },
    {
      "cell_type": "code",
      "source": [
        "classifier.save(saveModel_path())"
      ],
      "metadata": {
        "colab": {
          "base_uri": "https://localhost:8080/"
        },
        "id": "Magn4iI6Oijh",
        "outputId": "554de9bc-e904-4125-c970-40bd7e5fa010"
      },
      "execution_count": 115,
      "outputs": [
        {
          "output_type": "stream",
          "name": "stdout",
          "text": [
            "your model will be saved at the following location\n",
            "SAVED_MODELS/Model_2023_07_24_14_07_41_.h5\n"
          ]
        }
      ]
    },
    {
      "cell_type": "code",
      "source": [
        "#hyperparameter tunig with keras tuner\n",
        "\n",
        "!pip install keras-tuner --upgrade"
      ],
      "metadata": {
        "colab": {
          "base_uri": "https://localhost:8080/"
        },
        "id": "QZtnhDsnI8gN",
        "outputId": "6bb41437-6449-4650-edc4-248ff117d1af"
      },
      "execution_count": 110,
      "outputs": [
        {
          "output_type": "stream",
          "name": "stdout",
          "text": [
            "Collecting keras-tuner\n",
            "  Downloading keras_tuner-1.3.5-py3-none-any.whl (176 kB)\n",
            "\u001b[2K     \u001b[90m━━━━━━━━━━━━━━━━━━━━━━━━━━━━━━━━━━━━━━━\u001b[0m \u001b[32m176.1/176.1 kB\u001b[0m \u001b[31m2.4 MB/s\u001b[0m eta \u001b[36m0:00:00\u001b[0m\n",
            "\u001b[?25hRequirement already satisfied: packaging in /usr/local/lib/python3.10/dist-packages (from keras-tuner) (23.1)\n",
            "Requirement already satisfied: requests in /usr/local/lib/python3.10/dist-packages (from keras-tuner) (2.27.1)\n",
            "Collecting kt-legacy (from keras-tuner)\n",
            "  Downloading kt_legacy-1.0.5-py3-none-any.whl (9.6 kB)\n",
            "Requirement already satisfied: urllib3<1.27,>=1.21.1 in /usr/local/lib/python3.10/dist-packages (from requests->keras-tuner) (1.26.16)\n",
            "Requirement already satisfied: certifi>=2017.4.17 in /usr/local/lib/python3.10/dist-packages (from requests->keras-tuner) (2023.5.7)\n",
            "Requirement already satisfied: charset-normalizer~=2.0.0 in /usr/local/lib/python3.10/dist-packages (from requests->keras-tuner) (2.0.12)\n",
            "Requirement already satisfied: idna<4,>=2.5 in /usr/local/lib/python3.10/dist-packages (from requests->keras-tuner) (3.4)\n",
            "Installing collected packages: kt-legacy, keras-tuner\n",
            "Successfully installed keras-tuner-1.3.5 kt-legacy-1.0.5\n"
          ]
        }
      ]
    },
    {
      "cell_type": "code",
      "source": [
        "from kerastuner.tuners import RandomSearch"
      ],
      "metadata": {
        "id": "7O7VbAS6OGXK"
      },
      "execution_count": 112,
      "outputs": []
    },
    {
      "cell_type": "code",
      "source": [
        "def build_model(hp):\n",
        "  model=Sequential()\n",
        "  model.add(Dense(units=16,kernel_initializer = 'he_uniform',activation='relu',input_dim=170))\n",
        "  model.add(Dense(units = 8, kernel_initializer = 'he_uniform',activation='relu'))\n",
        "  model.add(Dense(1,activation='sigmoid'))\n",
        "  optimizer=hp.Choice(\"optimizer\",values=[\"adam\",\"sgd\",\"rmsprop\",\"adadelta\"])\n",
        "  model.compile(optimizer=optimizer,loss='binary_crossentropy',metrics=['accuracy'])\n",
        "  return model"
      ],
      "metadata": {
        "id": "Bz7LQqalOt8Z"
      },
      "execution_count": 116,
      "outputs": []
    },
    {
      "cell_type": "code",
      "source": [
        "tuner=RandomSearch(build_model,objective='val_accuracy',max_trials=5,directory='project1',project_name='aps-fault')"
      ],
      "metadata": {
        "id": "UrF_MnbSOL_p"
      },
      "execution_count": 117,
      "outputs": []
    },
    {
      "cell_type": "code",
      "source": [],
      "metadata": {
        "id": "iKdsENN3ORHK"
      },
      "execution_count": null,
      "outputs": []
    },
    {
      "cell_type": "code",
      "source": [
        "tuner.search(X_train,y_train,validation_data=(X_test,y_test),epochs=5)"
      ],
      "metadata": {
        "colab": {
          "base_uri": "https://localhost:8080/"
        },
        "id": "lt3ERXcfO5b8",
        "outputId": "6e23ad51-18f3-4c68-b597-9a27c95e05e0"
      },
      "execution_count": 118,
      "outputs": [
        {
          "output_type": "stream",
          "name": "stdout",
          "text": [
            "Trial 4 Complete [00h 00m 06s]\n",
            "val_accuracy: 0.991696298122406\n",
            "\n",
            "Best val_accuracy So Far: 0.991696298122406\n",
            "Total elapsed time: 00h 00m 33s\n"
          ]
        }
      ]
    },
    {
      "cell_type": "code",
      "source": [
        "tuner.get_best_hyperparameters()[0].values"
      ],
      "metadata": {
        "colab": {
          "base_uri": "https://localhost:8080/"
        },
        "id": "VP8PCLLdO6BX",
        "outputId": "1f0e1889-3226-4a78-d74f-e160d8b62c7c"
      },
      "execution_count": 119,
      "outputs": [
        {
          "output_type": "execute_result",
          "data": {
            "text/plain": [
              "{'optimizer': 'adam'}"
            ]
          },
          "metadata": {},
          "execution_count": 119
        }
      ]
    },
    {
      "cell_type": "code",
      "source": [
        "mymodel=tuner.get_best_models(num_models=1)[0]"
      ],
      "metadata": {
        "id": "fY-shLD7Qxsk"
      },
      "execution_count": 120,
      "outputs": []
    },
    {
      "cell_type": "code",
      "source": [
        " mymodel.summary()"
      ],
      "metadata": {
        "colab": {
          "base_uri": "https://localhost:8080/"
        },
        "id": "4xpDVfGUQ18v",
        "outputId": "effa5aea-b0bf-47f1-8d3a-e53b58e60837"
      },
      "execution_count": 121,
      "outputs": [
        {
          "output_type": "stream",
          "name": "stdout",
          "text": [
            "Model: \"sequential\"\n",
            "_________________________________________________________________\n",
            " Layer (type)                Output Shape              Param #   \n",
            "=================================================================\n",
            " dense (Dense)               (None, 16)                2736      \n",
            "                                                                 \n",
            " dense_1 (Dense)             (None, 8)                 136       \n",
            "                                                                 \n",
            " dense_2 (Dense)             (None, 1)                 9         \n",
            "                                                                 \n",
            "=================================================================\n",
            "Total params: 2,881\n",
            "Trainable params: 2,881\n",
            "Non-trainable params: 0\n",
            "_________________________________________________________________\n"
          ]
        }
      ]
    },
    {
      "cell_type": "code",
      "source": [],
      "metadata": {
        "id": "HHGLferIQ4wl"
      },
      "execution_count": null,
      "outputs": []
    },
    {
      "cell_type": "code",
      "source": [
        "from tensorflow.keras import optimizers\n",
        "def build_model(hp):\n",
        "    model = Sequential()\n",
        "    for i in range(hp.Int('num_layers', 2, 20)):\n",
        "        model.add(Dense(units=hp.Int('units_' + str(i),\n",
        "                                            min_value=32,\n",
        "                                            max_value=512,\n",
        "                                            step=32),\n",
        "                               activation='relu'))\n",
        "    model.add(Dense(1, activation='sigmoid'))\n",
        "    model.compile(\n",
        "        optimizer=optimizers.Adam(\n",
        "            hp.Choice('learning_rate', [1e-2, 1e-3, 1e-4])),\n",
        "        loss='binary_crossentropy',\n",
        "        metrics=['accuracy'])\n",
        "    return model"
      ],
      "metadata": {
        "id": "omnBXsySRFcE"
      },
      "execution_count": 122,
      "outputs": []
    },
    {
      "cell_type": "code",
      "source": [
        "tuner_second=RandomSearch(build_model,objective='val_accuracy',max_trials=5,directory='project3',project_name='aps-fault-sensor')"
      ],
      "metadata": {
        "id": "ITUwhJbRRLxS"
      },
      "execution_count": 123,
      "outputs": []
    },
    {
      "cell_type": "code",
      "source": [
        "tuner_second.search(X_train,y_train,epochs=5,validation_data=(X_test,y_test))"
      ],
      "metadata": {
        "colab": {
          "base_uri": "https://localhost:8080/"
        },
        "id": "FsZHensXRdtJ",
        "outputId": "7a5d2879-026b-4d0b-b994-71b34561592d"
      },
      "execution_count": 124,
      "outputs": [
        {
          "output_type": "stream",
          "name": "stdout",
          "text": [
            "Trial 5 Complete [00h 00m 24s]\n",
            "val_accuracy: 0.9893238544464111\n",
            "\n",
            "Best val_accuracy So Far: 0.9928825497627258\n",
            "Total elapsed time: 00h 01m 12s\n"
          ]
        }
      ]
    },
    {
      "cell_type": "code",
      "source": [
        "tuner_second.get_best_hyperparameters()[0].values"
      ],
      "metadata": {
        "colab": {
          "base_uri": "https://localhost:8080/"
        },
        "id": "l18XHa7nRhNs",
        "outputId": "860803b9-1228-447a-e0b7-4b324d502939"
      },
      "execution_count": 125,
      "outputs": [
        {
          "output_type": "execute_result",
          "data": {
            "text/plain": [
              "{'num_layers': 3,\n",
              " 'units_0': 384,\n",
              " 'units_1': 192,\n",
              " 'learning_rate': 0.01,\n",
              " 'units_2': 64,\n",
              " 'units_3': 32,\n",
              " 'units_4': 288,\n",
              " 'units_5': 512,\n",
              " 'units_6': 512,\n",
              " 'units_7': 480,\n",
              " 'units_8': 160,\n",
              " 'units_9': 288,\n",
              " 'units_10': 512,\n",
              " 'units_11': 64,\n",
              " 'units_12': 64,\n",
              " 'units_13': 416,\n",
              " 'units_14': 512,\n",
              " 'units_15': 288}"
            ]
          },
          "metadata": {},
          "execution_count": 125
        }
      ]
    },
    {
      "cell_type": "code",
      "source": [
        "classifier2=tuner_second.get_best_models(num_models=1)[0]"
      ],
      "metadata": {
        "id": "frspsy-WRj44"
      },
      "execution_count": 126,
      "outputs": []
    },
    {
      "cell_type": "code",
      "source": [],
      "metadata": {
        "id": "ZVp1HINRRn4L"
      },
      "execution_count": null,
      "outputs": []
    },
    {
      "cell_type": "code",
      "source": [],
      "metadata": {
        "id": "4Q5RJjcpRrAi"
      },
      "execution_count": null,
      "outputs": []
    }
  ]
}